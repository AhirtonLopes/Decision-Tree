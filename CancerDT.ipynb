{
 "cells": [
  {
   "cell_type": "code",
   "execution_count": 10,
   "metadata": {},
   "outputs": [],
   "source": [
    "# Demo Aberta - School of AI SP - Aprendizagem de Máquina - 26/02/2018\n",
    "\n",
    "# Lembretes\n",
    "# pip install numpy\n",
    "# pip install scipy\n",
    "# pip install scikit-learn\n",
    "# pip install pydotplus\n",
    "# instalar graphviz\n",
    "\n",
    "# Imports Diversos\n",
    "\n",
    "from sklearn import tree\n",
    "import pydotplus\n",
    "import numpy as np\n",
    "import sys"
   ]
  },
  {
   "cell_type": "code",
   "execution_count": 11,
   "metadata": {},
   "outputs": [],
   "source": [
    "# Input do dataset de Treinamento\n",
    "\n",
    "# Classes \"No cancer\", \"Cancer Left Breast\", \"Cancer Right Breast\", \"Cancer Both Breasts\"\n",
    "\n",
    "input_data = open(\"training_sample.csv\", \"r\").read().split(\"\\n\")\n",
    "\n",
    "features = input_data[0].split(\",\")\n",
    "del features[3] # removendo o rótulo cancerL\n",
    "del features[3] # removendo o rótulo cancerR\n",
    "\n",
    "del input_data[0] # removendo o cabeçalho do arquivo csv\n",
    "del input_data[-1] # removendo a última linha (vazia)\n",
    "\n",
    "class_names = [\"No cancer\", \"Cancer Left Breast\", \"Cancer Right Breast\", \"Cancer Both Breasts\"]\n",
    "samples = []\n",
    "sample_classes = []\n",
    "\n",
    "def cancer_enum(cancerL, cancerR):\n",
    "    if cancerL == 1 and cancerR == 1: # criando uma lista de calsses as quais as amostras poderiam pertencer\n",
    "        return 3 # 3 = cancer em ambos os seios\n",
    "    elif cancerL == 1 and cancerR == 0:\n",
    "        return 1 # 1 = cancer apenas no seio esquerdo\n",
    "    elif cancerL == 0 and cancerR == 1:\n",
    "        return 2 # 2 = cancer apenas no seio direito\n",
    "    elif cancerL == 0 and cancerR == 0:\n",
    "        return 0 # 0 = não há cancer em ambos os seios\n",
    "    else:\n",
    "        return 0"
   ]
  },
  {
   "cell_type": "code",
   "execution_count": 12,
   "metadata": {},
   "outputs": [
    {
     "data": {
      "text/plain": [
       "True"
      ]
     },
     "execution_count": 12,
     "metadata": {},
     "output_type": "execute_result"
    }
   ],
   "source": [
    "# Aplicando classificação supervisionada via sklearn\n",
    "\n",
    "for i, line in enumerate(input_data):\n",
    "    data = line.split(\",\")\n",
    "    cancerL, cancerR = int(data[3]), int(data[4])\n",
    "    del data[3] # removendo os valores de cancerL em nosso array\n",
    "    del data[3] # removendo os valores de cancerR em nosso array\n",
    "    samples.append(data)\n",
    "    sample_classes.append(cancer_enum(cancerL, cancerR))\n",
    "\n",
    "\n",
    "clf = tree.DecisionTreeClassifier()\n",
    "clf = clf.fit(samples, sample_classes)\n",
    "\n",
    "dot_data = tree.export_graphviz(clf, out_file=None, feature_names=features,\n",
    "    class_names=class_names, filled=True, rounded=True,\tspecial_characters=True)\n",
    "graph = pydotplus.graph_from_dot_data(dot_data) \n",
    "graph.write_pdf(\"classificacao.pdf\") # arvore de classificacao em formato .pdf"
   ]
  },
  {
   "cell_type": "code",
   "execution_count": 13,
   "metadata": {},
   "outputs": [
    {
     "name": "stdout",
     "output_type": "stream",
     "text": [
      "\n",
      "Acuracia de classificacao = 92%\n",
      "\n"
     ]
    }
   ],
   "source": [
    "# Testando dados de test_sample no modelo gerado\n",
    "\n",
    "test_data = open(\"test_sample.csv\", \"r\").read().split(\"\\n\")\n",
    "del test_data[0] # removendo o cabeçalho do arquivo csv\n",
    "del test_data[-1]\n",
    "\n",
    "samples_count = 0\n",
    "success = 0\n",
    "for i, line in enumerate(test_data): # testando a acuracia de nosso classificador nos dados de teste\n",
    "    data = line.split(\",\")\n",
    "    cancerL, cancerR = int(data[3]), int(data[4])\n",
    "    del data[3] # removendo os valores de cancerL em nosso array\n",
    "    del data[3] # removendo os valores de cancerR em nosso array\n",
    "    expected_result = cancer_enum(cancerL, cancerR)\n",
    "    samples_count += 1\n",
    "    result = clf.predict(np.array(data).reshape(1,-1))[0]\n",
    "    if result == expected_result:\n",
    "        success += 1\n",
    "        \n",
    "# Acurácia (Casos corretamente classificados)\n",
    "\n",
    "print (\"\\nAcuracia de classificacao = \"+str((100*success)/samples_count)+\"%\\n\")"
   ]
  },
  {
   "cell_type": "code",
   "execution_count": null,
   "metadata": {},
   "outputs": [],
   "source": []
  }
 ],
 "metadata": {
  "kernelspec": {
   "display_name": "Python 2",
   "language": "python",
   "name": "python2"
  },
  "language_info": {
   "codemirror_mode": {
    "name": "ipython",
    "version": 2
   },
   "file_extension": ".py",
   "mimetype": "text/x-python",
   "name": "python",
   "nbconvert_exporter": "python",
   "pygments_lexer": "ipython2",
   "version": "2.7.14"
  }
 },
 "nbformat": 4,
 "nbformat_minor": 2
}
